{
  "nbformat": 4,
  "nbformat_minor": 0,
  "metadata": {
    "colab": {
      "provenance": [],
      "collapsed_sections": []
    },
    "kernelspec": {
      "name": "python3",
      "display_name": "Python 3"
    },
    "language_info": {
      "name": "python"
    }
  },
  "cells": [
    {
      "cell_type": "code",
      "source": [],
      "metadata": {
        "id": "I6JaNRlJr3FI"
      },
      "execution_count": null,
      "outputs": []
    },
    {
      "cell_type": "markdown",
      "source": [
        "Программа перевода по коду Хэмминга"
      ],
      "metadata": {
        "id": "Dokk9uAXQ2aw"
      }
    },
    {
      "cell_type": "code",
      "source": [
        "a='0123456789'\n",
        "nums=list(a)\n",
        "print(nums)"
      ],
      "metadata": {
        "colab": {
          "base_uri": "https://localhost:8080/"
        },
        "id": "QzGEJK5NQs9-",
        "outputId": "c5f2ff59-9811-45f1-bcd9-2ac10ab38182"
      },
      "execution_count": null,
      "outputs": [
        {
          "output_type": "stream",
          "name": "stdout",
          "text": [
            "['0', '1', '2', '3', '4', '5', '6', '7', '8', '9']\n"
          ]
        }
      ]
    },
    {
      "cell_type": "code",
      "source": [
        "b='0000000 000111 0010110 0011001 0100101 0101010 0110011 0111100 1000011 1001100'\n",
        "hem=b.split()\n",
        "del b\n",
        "print(hem)\n",
        "for i in range(len(hem)):\n",
        "  hem[i]=int(hem[i])\n",
        "print(hem)"
      ],
      "metadata": {
        "id": "APnZUlTrSFBE",
        "colab": {
          "base_uri": "https://localhost:8080/"
        },
        "outputId": "d8cdda6e-c195-45bd-812a-59b858afd8b1"
      },
      "execution_count": null,
      "outputs": [
        {
          "output_type": "stream",
          "name": "stdout",
          "text": [
            "['0000000', '000111', '0010110', '0011001', '0100101', '0101010', '0110011', '0111100', '1000011', '1001100']\n",
            "[0, 111, 10110, 11001, 100101, 101010, 110011, 111100, 1000011, 1001100]\n"
          ]
        }
      ]
    },
    {
      "cell_type": "code",
      "source": [
        "def distance(x,y):\n",
        "  k=7\n",
        "  for i in range(7):\n",
        "    if x%10==y%10:\n",
        "      k=k-1\n",
        "    x=x//10\n",
        "    y=y//10\n",
        "  return k"
      ],
      "metadata": {
        "id": "KPFZTMTJVQvQ"
      },
      "execution_count": null,
      "outputs": []
    },
    {
      "cell_type": "code",
      "source": [
        "cod=int(input(\"код=\"))"
      ],
      "metadata": {
        "id": "c77fF3oxWxp_"
      },
      "execution_count": null,
      "outputs": []
    },
    {
      "cell_type": "code",
      "source": [
        "min=distance(cod,hem[0])\n",
        "imin=0\n",
        "for i in range(10):\n",
        "  D=distance(cod,hem[i])\n",
        "  if D<min:\n",
        "    min=D\n",
        "    imin=i\n",
        "if min==0:\n",
        "  print(f\"Код верный: символ {nums[imin]}\")\n",
        "elif min==1:\n",
        "  print(f\"Код исправлен: символ {nums[imin]}\")\n",
        "else:print(f\"Код неверный\")\n"
      ],
      "metadata": {
        "id": "ULLrpyquXMnx"
      },
      "execution_count": null,
      "outputs": []
    }
  ]
}